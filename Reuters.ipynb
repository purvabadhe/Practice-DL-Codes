{
  "cells": [
    {
      "cell_type": "markdown",
      "metadata": {
        "id": "view-in-github",
        "colab_type": "text"
      },
      "source": [
        "<a href=\"https://colab.research.google.com/github/purvabadhe/Practice-DL-Codes/blob/main/Reuters.ipynb\" target=\"_parent\"><img src=\"https://colab.research.google.com/assets/colab-badge.svg\" alt=\"Open In Colab\"/></a>"
      ]
    },
    {
      "cell_type": "code",
      "execution_count": null,
      "metadata": {
        "id": "8X9LXMYp-_W0"
      },
      "outputs": [],
      "source": [
        "\n",
        "#import packages\n",
        "import numpy as np\n",
        "import cv2\n",
        "from keras import models\n",
        "from keras import layers\n",
        "from keras import optimizers\n",
        "from keras import losses\n",
        "from keras import metrics\n",
        "from keras.utils.np_utils import to_categorical\n",
        "from keras.datasets import reuters"
      ]
    },
    {
      "cell_type": "code",
      "execution_count": null,
      "metadata": {
        "id": "gbz8f1MZ-_W2"
      },
      "outputs": [],
      "source": [
        "#encoding labels for NN preprocessing\n",
        "def to_one_hot(labels,dimension=46):\n",
        "    results=np.zeros((len(labels),dimension))\n",
        "    for i, label in enumerate(labels):\n",
        "        results[i,label]=1\n",
        "    return results"
      ]
    },
    {
      "cell_type": "code",
      "execution_count": null,
      "metadata": {
        "id": "Zhltrl1X-_W2"
      },
      "outputs": [],
      "source": [
        "#preprocessing function\n",
        "def vectorize_sequences(sequences,dimension=10000):\n",
        "    results=np.zeros((len(sequences),dimension))\n",
        "    for i, sequence in enumerate(sequences):\n",
        "        results[i,sequence]=1\n",
        "    return results"
      ]
    },
    {
      "cell_type": "code",
      "execution_count": null,
      "metadata": {
        "id": "Xga2PyiP-_W2"
      },
      "outputs": [],
      "source": [
        "import tensorflow as tf"
      ]
    },
    {
      "cell_type": "code",
      "execution_count": null,
      "metadata": {
        "id": "OSb-w-Xq-_W3"
      },
      "outputs": [],
      "source": [
        "# (data_train,labels_train),(test_data,labels_test)=tf.keras.datasets.reuters.load_data(\n",
        "#     path=\"reuters.npz\",\n",
        "#     num_words=10000)"
      ]
    },
    {
      "cell_type": "code",
      "execution_count": null,
      "metadata": {
        "id": "w45pdRT--_W3"
      },
      "outputs": [],
      "source": [
        "# #loading the data\n",
        "(data_train,labels_train),(test_data,labels_test)=tf.keras.datasets.reuters.load_data(\n",
        "     path=\"reuters.npz\",\n",
        "     num_words=10000,\n",
        "     skip_top=0,\n",
        "     maxlen=None,\n",
        "     test_split=0.2,\n",
        "     seed=113,\n",
        "     start_char=1,\n",
        "     oov_char=2,\n",
        "     index_from=3 )"
      ]
    },
    {
      "cell_type": "code",
      "execution_count": null,
      "metadata": {
        "id": "9WtF-uyh-_W3",
        "outputId": "6096762e-32b6-4a38-dcf1-0286f3a41dc2"
      },
      "outputs": [
        {
          "name": "stdout",
          "output_type": "stream",
          "text": [
            "Downloading data from https://storage.googleapis.com/tensorflow/tf-keras-datasets/reuters_word_index.json\n",
            "557056/550378 [==============================] - 1s 1us/step\n"
          ]
        }
      ],
      "source": [
        "#turning encode of the scripts to text\n",
        "word_index=tf.keras.datasets.reuters.get_word_index()"
      ]
    },
    {
      "cell_type": "code",
      "execution_count": null,
      "metadata": {
        "id": "F5H5YSTb-_W4"
      },
      "outputs": [],
      "source": [
        "reverse_word_index=dict([(value,key) for (key,value) in word_index.items()])\n",
        "decoded_review=''.join((reverse_word_index.get (i-3,'?') for i in data_train[0]))"
      ]
    },
    {
      "cell_type": "code",
      "execution_count": null,
      "metadata": {
        "id": "0_E2TgLO-_W4"
      },
      "outputs": [],
      "source": [
        "#Process the data\n",
        "def vectorize_sequences(sequences,dimension=10000):\n",
        "    results=np.zeros((len(sequences),dimension))\n",
        "    for i, sequence in enumerate(sequences):\n",
        "        results[i,sequence]=1\n",
        "    return results"
      ]
    },
    {
      "cell_type": "code",
      "execution_count": null,
      "metadata": {
        "id": "aIwMfj9c-_W4"
      },
      "outputs": [],
      "source": [
        "x_train=vectorize_sequences(data_train)\n",
        "x_test=vectorize_sequences(test_data)\n"
      ]
    },
    {
      "cell_type": "code",
      "execution_count": null,
      "metadata": {
        "id": "od18FFaW-_W5"
      },
      "outputs": [],
      "source": [
        "#process the labels\n",
        "one_hot_train_labels=to_one_hot(labels_train)\n",
        "one_hot_test_labels=to_one_hot(labels_test)\n",
        "y_train=to_categorical(labels_train)\n",
        "y_test=to_categorical(labels_test)"
      ]
    },
    {
      "cell_type": "code",
      "execution_count": null,
      "metadata": {
        "id": "Df88WR8s-_W5"
      },
      "outputs": [],
      "source": [
        "#forming the network\n",
        "model=models.Sequential()\n",
        "model.add(layers.Dense(64,activation='relu',input_shape = (10000,)))\n",
        "model.add(layers.Dense(64,activation='relu'))\n",
        "model.add(layers.Dense(46,activation='sigmoid'))"
      ]
    },
    {
      "cell_type": "code",
      "execution_count": null,
      "metadata": {
        "id": "JPOtKeli-_W5"
      },
      "outputs": [],
      "source": [
        "#compiling the network\n",
        "model.compile(optimizer='rmsprop',loss='categorical_crossentropy',metrics=['accuracy'])"
      ]
    },
    {
      "cell_type": "code",
      "execution_count": null,
      "metadata": {
        "id": "XY9V64rE-_W5"
      },
      "outputs": [],
      "source": [
        "#setting aside validation data\n",
        "x_val=x_train[:1000]\n",
        "partial_x_train=x_train[1000:]\n",
        "y_val=one_hot_train_labels[:1000]\n",
        "partial_y_train=one_hot_train_labels[1000:]"
      ]
    },
    {
      "cell_type": "code",
      "execution_count": null,
      "metadata": {
        "id": "QoXR7OC3-_W5",
        "outputId": "580befae-96c6-4add-cb5b-b4c12326d7b4"
      },
      "outputs": [
        {
          "name": "stdout",
          "output_type": "stream",
          "text": [
            "Train on 7982 samples, validate on 1000 samples\n",
            "Epoch 1/20\n",
            "7982/7982 [==============================] - 1s 172us/step - loss: 3.4546 - accuracy: 0.4406 - val_loss: 3.0706 - val_accuracy: 0.4930\n",
            "Epoch 2/20\n",
            "7982/7982 [==============================] - 1s 139us/step - loss: 2.6332 - accuracy: 0.4059 - val_loss: 2.1650 - val_accuracy: 0.3540\n",
            "Epoch 3/20\n",
            "7982/7982 [==============================] - 1s 137us/step - loss: 1.7752 - accuracy: 0.3514 - val_loss: 1.6703 - val_accuracy: 0.3540\n",
            "Epoch 4/20\n",
            "7982/7982 [==============================] - 1s 136us/step - loss: 1.3784 - accuracy: 0.3514 - val_loss: 1.4608 - val_accuracy: 0.3540\n",
            "Epoch 5/20\n",
            "7982/7982 [==============================] - 1s 138us/step - loss: 1.1606 - accuracy: 0.4116 - val_loss: 1.1929 - val_accuracy: 0.7170\n",
            "Epoch 6/20\n",
            "7982/7982 [==============================] - 1s 135us/step - loss: 0.7197 - accuracy: 0.8509 - val_loss: 0.9687 - val_accuracy: 0.8100\n",
            "Epoch 7/20\n",
            "7982/7982 [==============================] - 1s 138us/step - loss: 0.5423 - accuracy: 0.8903 - val_loss: 0.9277 - val_accuracy: 0.8140\n",
            "Epoch 8/20\n",
            "7982/7982 [==============================] - 1s 135us/step - loss: 0.4386 - accuracy: 0.9119 - val_loss: 0.9282 - val_accuracy: 0.8130\n",
            "Epoch 9/20\n",
            "7982/7982 [==============================] - 1s 137us/step - loss: 0.3668 - accuracy: 0.9236 - val_loss: nan - val_accuracy: 0.8180\n",
            "Epoch 10/20\n",
            "7982/7982 [==============================] - 1s 135us/step - loss: nan - accuracy: 0.7784 - val_loss: nan - val_accuracy: 0.0060\n",
            "Epoch 11/20\n",
            "7982/7982 [==============================] - 1s 138us/step - loss: nan - accuracy: 0.0061 - val_loss: nan - val_accuracy: 0.0060\n",
            "Epoch 12/20\n",
            "7982/7982 [==============================] - 1s 138us/step - loss: nan - accuracy: 0.0061 - val_loss: nan - val_accuracy: 0.0060\n",
            "Epoch 13/20\n",
            "7982/7982 [==============================] - 1s 143us/step - loss: nan - accuracy: 0.0061 - val_loss: nan - val_accuracy: 0.0060\n",
            "Epoch 14/20\n",
            "7982/7982 [==============================] - 1s 139us/step - loss: nan - accuracy: 0.0061 - val_loss: nan - val_accuracy: 0.0060\n",
            "Epoch 15/20\n",
            "7982/7982 [==============================] - 1s 135us/step - loss: nan - accuracy: 0.0061 - val_loss: nan - val_accuracy: 0.0060\n",
            "Epoch 16/20\n",
            "7982/7982 [==============================] - 1s 136us/step - loss: nan - accuracy: 0.0061 - val_loss: nan - val_accuracy: 0.0060\n",
            "Epoch 17/20\n",
            "7982/7982 [==============================] - 1s 137us/step - loss: nan - accuracy: 0.0061 - val_loss: nan - val_accuracy: 0.0060\n",
            "Epoch 18/20\n",
            "7982/7982 [==============================] - 1s 136us/step - loss: nan - accuracy: 0.0061 - val_loss: nan - val_accuracy: 0.0060\n",
            "Epoch 19/20\n",
            "7982/7982 [==============================] - 1s 138us/step - loss: nan - accuracy: 0.0061 - val_loss: nan - val_accuracy: 0.0060\n",
            "Epoch 20/20\n",
            "7982/7982 [==============================] - 1s 134us/step - loss: nan - accuracy: 0.0061 - val_loss: nan - val_accuracy: 0.0060\n"
          ]
        }
      ],
      "source": [
        "#actually training the network\n",
        "history=model.fit(partial_x_train,partial_y_train,epochs=20,batch_size=512,validation_data=(x_val,y_val))"
      ]
    },
    {
      "cell_type": "code",
      "execution_count": null,
      "metadata": {
        "id": "B6yJYL4m-_W6"
      },
      "outputs": [],
      "source": [
        "history_dict=history.history"
      ]
    },
    {
      "cell_type": "code",
      "execution_count": null,
      "metadata": {
        "id": "yNPCJgR5-_W6",
        "outputId": "3c57aa88-3e96-469c-a3b0-10ef10572737"
      },
      "outputs": [
        {
          "name": "stdout",
          "output_type": "stream",
          "text": [
            "[0.4406164, 0.4059133, 0.3514157, 0.3514157, 0.411551, 0.85091454, 0.89025307, 0.9119268, 0.923578, 0.77837634, 0.0061388123, 0.0061388123, 0.0061388123, 0.0061388123, 0.0061388123, 0.0061388123, 0.0061388123, 0.0061388123, 0.0061388123, 0.0061388123]\n",
            "[0.49300000071525574, 0.3540000021457672, 0.3540000021457672, 0.3540000021457672, 0.7170000076293945, 0.8100000023841858, 0.8140000104904175, 0.8130000233650208, 0.8180000185966492, 0.006000000052154064, 0.006000000052154064, 0.006000000052154064, 0.006000000052154064, 0.006000000052154064, 0.006000000052154064, 0.006000000052154064, 0.006000000052154064, 0.006000000052154064, 0.006000000052154064, 0.006000000052154064]\n",
            "[3.454628993562217, 2.6331610274595656, 1.775238349066734, 1.3783995273327714, 1.1606289698826104, 0.7197167401593361, 0.5423346239951164, 0.43859245398683194, 0.3668061101221554, nan, nan, nan, nan, nan, nan, nan, nan, nan, nan, nan]\n",
            "[3.0706256198883057, 2.1649735622406006, 1.6702762289047242, 1.4607520008087158, 1.1928774003982543, 0.9687293300628662, 0.9276581420898438, 0.9282436685562134, nan, nan, nan, nan, nan, nan, nan, nan, nan, nan, nan, nan]\n"
          ]
        }
      ],
      "source": [
        "#last value of each list is final accuracy or loss\n",
        "history_dict['accuracy'][-1]\n",
        "\n",
        "print(history_dict['accuracy'])\n",
        "print(history_dict['val_accuracy'])\n",
        "print(history_dict['loss'])\n",
        "print(history_dict['val_loss'])"
      ]
    },
    {
      "cell_type": "code",
      "execution_count": null,
      "metadata": {
        "id": "JefqSsN--_W6",
        "outputId": "2633e9f4-780b-4dbc-c715-f70c2556f1c6"
      },
      "outputs": [
        {
          "name": "stdout",
          "output_type": "stream",
          "text": [
            "2246/2246 [==============================] - 0s 159us/step\n",
            "[nan, 0.005342831835150719]\n"
          ]
        }
      ],
      "source": [
        "#Test results\n",
        "results=model.evaluate(x_test,y_test)\n",
        "print(results)\n",
        "\n",
        "#which one is loss ,which one is accuracy"
      ]
    },
    {
      "cell_type": "code",
      "execution_count": null,
      "metadata": {
        "id": "4e5LAGp0-_W6"
      },
      "outputs": [],
      "source": [
        "#activate this once previous approach is commented\n",
        "model=models.Sequential()\n",
        "model.add(layers.Dense(64,activation='relu',input_shape = (10000,)))\n",
        "model.add(layers.Dense(64,activation='relu'))\n",
        "model.add(layers.Dense(46,activation='sigmoid'))\n",
        "model.compile(optimizer='rmsprop',loss='categorical_crossentropy',metrics=['accuracy'])\n"
      ]
    },
    {
      "cell_type": "code",
      "execution_count": null,
      "metadata": {
        "id": "eRfXKnp_-_W6",
        "outputId": "59c5c10d-87b5-401d-8598-7575743c00b4"
      },
      "outputs": [
        {
          "name": "stdout",
          "output_type": "stream",
          "text": [
            "Train on 7982 samples, validate on 1000 samples\n",
            "Epoch 1/9\n",
            "7982/7982 [==============================] - 1s 143us/step - loss: nan - accuracy: 0.0061 - val_loss: nan - val_accuracy: 0.0060\n",
            "Epoch 2/9\n",
            "7982/7982 [==============================] - 1s 142us/step - loss: nan - accuracy: 0.0061 - val_loss: nan - val_accuracy: 0.0060\n",
            "Epoch 3/9\n",
            "7982/7982 [==============================] - 1s 141us/step - loss: nan - accuracy: 0.0061 - val_loss: nan - val_accuracy: 0.0060\n",
            "Epoch 4/9\n",
            "7982/7982 [==============================] - 1s 139us/step - loss: nan - accuracy: 0.0061 - val_loss: nan - val_accuracy: 0.0060\n",
            "Epoch 5/9\n",
            "7982/7982 [==============================] - 1s 139us/step - loss: nan - accuracy: 0.0061 - val_loss: nan - val_accuracy: 0.0060\n",
            "Epoch 6/9\n",
            "7982/7982 [==============================] - 1s 139us/step - loss: nan - accuracy: 0.0061 - val_loss: nan - val_accuracy: 0.0060\n",
            "Epoch 7/9\n",
            "7982/7982 [==============================] - 1s 139us/step - loss: nan - accuracy: 0.0061 - val_loss: nan - val_accuracy: 0.0060\n",
            "Epoch 8/9\n",
            "7982/7982 [==============================] - 1s 139us/step - loss: nan - accuracy: 0.0061 - val_loss: nan - val_accuracy: 0.0060\n",
            "Epoch 9/9\n",
            "7982/7982 [==============================] - 1s 142us/step - loss: nan - accuracy: 0.0061 - val_loss: nan - val_accuracy: 0.0060\n"
          ]
        },
        {
          "data": {
            "text/plain": [
              "<keras.callbacks.callbacks.History at 0x190b7d5fc88>"
            ]
          },
          "execution_count": 45,
          "metadata": {},
          "output_type": "execute_result"
        }
      ],
      "source": [
        "model.fit(partial_x_train,partial_y_train,epochs=9,batch_size=512,validation_data=(x_val,y_val))"
      ]
    },
    {
      "cell_type": "code",
      "execution_count": null,
      "metadata": {
        "id": "q_iI535n-_W7",
        "outputId": "0e412432-1ce0-4e53-82aa-4d53158156b7"
      },
      "outputs": [
        {
          "name": "stdout",
          "output_type": "stream",
          "text": [
            "2246/2246 [==============================] - 0s 150us/step\n"
          ]
        }
      ],
      "source": [
        "results=model.evaluate(x_test,one_hot_test_labels)"
      ]
    },
    {
      "cell_type": "code",
      "execution_count": null,
      "metadata": {
        "id": "8cEIeNgZ-_W7"
      },
      "outputs": [],
      "source": []
    }
  ],
  "metadata": {
    "kernelspec": {
      "display_name": "Python 3",
      "language": "python",
      "name": "python3"
    },
    "language_info": {
      "codemirror_mode": {
        "name": "ipython",
        "version": 3
      },
      "file_extension": ".py",
      "mimetype": "text/x-python",
      "name": "python",
      "nbconvert_exporter": "python",
      "pygments_lexer": "ipython3",
      "version": "3.7.9"
    },
    "colab": {
      "provenance": [],
      "include_colab_link": true
    }
  },
  "nbformat": 4,
  "nbformat_minor": 0
}