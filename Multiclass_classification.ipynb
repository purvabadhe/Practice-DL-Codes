{
  "nbformat": 4,
  "nbformat_minor": 0,
  "metadata": {
    "kernelspec": {
      "display_name": "Python 3",
      "language": "python",
      "name": "python3"
    },
    "language_info": {
      "codemirror_mode": {
        "name": "ipython",
        "version": 3
      },
      "file_extension": ".py",
      "mimetype": "text/x-python",
      "name": "python",
      "nbconvert_exporter": "python",
      "pygments_lexer": "ipython3",
      "version": "3.7.9"
    },
    "colab": {
      "provenance": [],
      "include_colab_link": true
    }
  },
  "cells": [
    {
      "cell_type": "markdown",
      "metadata": {
        "id": "view-in-github",
        "colab_type": "text"
      },
      "source": [
        "<a href=\"https://colab.research.google.com/github/purvabadhe/Practice-DL-Codes/blob/main/Multiclass_classification.ipynb\" target=\"_parent\"><img src=\"https://colab.research.google.com/assets/colab-badge.svg\" alt=\"Open In Colab\"/></a>"
      ]
    },
    {
      "cell_type": "code",
      "metadata": {
        "id": "OSeeYhokV45Q"
      },
      "source": [
        "\n",
        "#import packages\n",
        "import numpy as np\n",
        "import cv2\n",
        "from keras import models\n",
        "from keras import layers\n",
        "from keras import optimizers\n",
        "from keras import losses\n",
        "from keras import metrics\n",
        "from keras.utils.np_utils import to_categorical\n",
        "from keras.datasets import reuters"
      ],
      "execution_count": null,
      "outputs": []
    },
    {
      "cell_type": "code",
      "metadata": {
        "id": "rCDGoXKpV45X"
      },
      "source": [
        "#encoding labels for NN preprocessing\n",
        "def to_one_hot(labels,dimension=46):\n",
        "    results=np.zeros((len(labels),dimension))\n",
        "    for i, label in enumerate(labels):\n",
        "        results[i,label]=1\n",
        "    return results"
      ],
      "execution_count": null,
      "outputs": []
    },
    {
      "cell_type": "code",
      "metadata": {
        "id": "Nk98TWC2V45Y"
      },
      "source": [
        "#preprocessing function\n",
        "def vectorize_sequences(sequences,dimension=10000):\n",
        "    results=np.zeros((len(sequences),dimension))\n",
        "    for i, sequence in enumerate(sequences):\n",
        "        results[i,sequence]=1\n",
        "    return results"
      ],
      "execution_count": null,
      "outputs": []
    },
    {
      "cell_type": "code",
      "metadata": {
        "id": "-JWR32quV45Z"
      },
      "source": [
        "import tensorflow as tf"
      ],
      "execution_count": null,
      "outputs": []
    },
    {
      "cell_type": "code",
      "metadata": {
        "id": "KP0C-N9qV45Z"
      },
      "source": [
        "# (data_train,labels_train),(test_data,labels_test)=tf.keras.datasets.reuters.load_data(\n",
        "#     path=\"reuters.npz\",\n",
        "#     num_words=10000)"
      ],
      "execution_count": null,
      "outputs": []
    },
    {
      "cell_type": "code",
      "metadata": {
        "colab": {
          "base_uri": "https://localhost:8080/"
        },
        "id": "xgGbwh7MV45a",
        "outputId": "673241b3-bd24-4be0-aea5-ff2476b280f1"
      },
      "source": [
        "# #loading the data\n",
        "(data_train,labels_train),(test_data,labels_test)=tf.keras.datasets.reuters.load_data(\n",
        "     path=\"reuters.npz\",\n",
        "     num_words=10000,\n",
        "     skip_top=0,\n",
        "     maxlen=None,\n",
        "     test_split=0.2,\n",
        "     seed=113,\n",
        "     start_char=1,\n",
        "     oov_char=2,\n",
        "     index_from=3 )"
      ],
      "execution_count": null,
      "outputs": [
        {
          "output_type": "stream",
          "text": [
            "Downloading data from https://storage.googleapis.com/tensorflow/tf-keras-datasets/reuters.npz\n",
            "2113536/2110848 [==============================] - 0s 0us/step\n"
          ],
          "name": "stdout"
        },
        {
          "output_type": "stream",
          "text": [
            "/usr/local/lib/python3.7/dist-packages/tensorflow/python/keras/datasets/reuters.py:148: VisibleDeprecationWarning: Creating an ndarray from ragged nested sequences (which is a list-or-tuple of lists-or-tuples-or ndarrays with different lengths or shapes) is deprecated. If you meant to do this, you must specify 'dtype=object' when creating the ndarray\n",
            "  x_train, y_train = np.array(xs[:idx]), np.array(labels[:idx])\n",
            "/usr/local/lib/python3.7/dist-packages/tensorflow/python/keras/datasets/reuters.py:149: VisibleDeprecationWarning: Creating an ndarray from ragged nested sequences (which is a list-or-tuple of lists-or-tuples-or ndarrays with different lengths or shapes) is deprecated. If you meant to do this, you must specify 'dtype=object' when creating the ndarray\n",
            "  x_test, y_test = np.array(xs[idx:]), np.array(labels[idx:])\n"
          ],
          "name": "stderr"
        }
      ]
    },
    {
      "cell_type": "code",
      "metadata": {
        "colab": {
          "base_uri": "https://localhost:8080/"
        },
        "id": "CZ_dvMZnV45a",
        "outputId": "09b71627-1c87-4ccf-97e1-2c0c28230360"
      },
      "source": [
        "#turning encode of the scripts to text\n",
        "word_index=tf.keras.datasets.reuters.get_word_index()"
      ],
      "execution_count": null,
      "outputs": [
        {
          "output_type": "stream",
          "text": [
            "Downloading data from https://storage.googleapis.com/tensorflow/tf-keras-datasets/reuters_word_index.json\n",
            "557056/550378 [==============================] - 0s 0us/step\n"
          ],
          "name": "stdout"
        }
      ]
    },
    {
      "cell_type": "code",
      "metadata": {
        "colab": {
          "base_uri": "https://localhost:8080/",
          "height": 69
        },
        "id": "Rv_eBWrwV45b",
        "outputId": "58f136fe-4916-41f8-fac0-d8286c0955fd"
      },
      "source": [
        "reverse_word_index=dict([(value,key) for (key,value) in word_index.items()])\n",
        "#decoded_review=''.join((reverse_word_index.get (i-3,'?') for i in data_train[0]))\n",
        "decoded_review = ' '.join([reverse_word_index.get(i-3, '?') for i in data_train[0]])\n",
        "decoded_review"
      ],
      "execution_count": null,
      "outputs": [
        {
          "output_type": "execute_result",
          "data": {
            "application/vnd.google.colaboratory.intrinsic+json": {
              "type": "string"
            },
            "text/plain": [
              "'? ? ? said as a result of its december acquisition of space co it expects earnings per share in 1987 of 1 15 to 1 30 dlrs per share up from 70 cts in 1986 the company said pretax net should rise to nine to 10 mln dlrs from six mln dlrs in 1986 and rental operation revenues to 19 to 22 mln dlrs from 12 5 mln dlrs it said cash flow per share this year should be 2 50 to three dlrs reuter 3'"
            ]
          },
          "metadata": {
            "tags": []
          },
          "execution_count": 11
        }
      ]
    },
    {
      "cell_type": "code",
      "metadata": {
        "id": "xXGGA1O_V45c"
      },
      "source": [
        "#Process the data\n",
        "def vectorize_sequences(sequences,dimension=10000):\n",
        "    results=np.zeros((len(sequences),dimension))\n",
        "    for i, sequence in enumerate(sequences):\n",
        "        results[i,sequence]=1\n",
        "    return results"
      ],
      "execution_count": null,
      "outputs": []
    },
    {
      "cell_type": "code",
      "metadata": {
        "id": "zBfYXam3V45c"
      },
      "source": [
        "x_train=vectorize_sequences(data_train)\n",
        "x_test=vectorize_sequences(test_data)\n"
      ],
      "execution_count": null,
      "outputs": []
    },
    {
      "cell_type": "code",
      "metadata": {
        "id": "1TyAKqAQV45d"
      },
      "source": [
        "#process the labels\n",
        "one_hot_train_labels=to_one_hot(labels_train)\n",
        "one_hot_test_labels=to_one_hot(labels_test)\n",
        "y_train=to_categorical(labels_train)\n",
        "y_test=to_categorical(labels_test)"
      ],
      "execution_count": null,
      "outputs": []
    },
    {
      "cell_type": "code",
      "metadata": {
        "id": "oai-2LcoV45d"
      },
      "source": [
        "#forming the network\n",
        "model=models.Sequential()\n",
        "model.add(layers.Dense(64,activation='relu',input_shape = (10000,)))\n",
        "model.add(layers.Dense(64,activation='relu'))\n",
        "model.add(layers.Dense(46,activation='sigmoid'))"
      ],
      "execution_count": null,
      "outputs": []
    },
    {
      "cell_type": "code",
      "metadata": {
        "id": "6SvckBOoV45e"
      },
      "source": [
        "#compiling the network\n",
        "model.compile(optimizer='rmsprop',loss='categorical_crossentropy',metrics=['accuracy'])"
      ],
      "execution_count": null,
      "outputs": []
    },
    {
      "cell_type": "code",
      "metadata": {
        "id": "nvmVnfrFV45e"
      },
      "source": [
        "#setting aside validation data\n",
        "x_val=x_train[:1000]\n",
        "partial_x_train=x_train[1000:]\n",
        "y_val=one_hot_train_labels[:1000]\n",
        "partial_y_train=one_hot_train_labels[1000:]"
      ],
      "execution_count": null,
      "outputs": []
    },
    {
      "cell_type": "code",
      "metadata": {
        "colab": {
          "base_uri": "https://localhost:8080/"
        },
        "id": "yCXx271VV45f",
        "outputId": "0288bcbd-0e44-467b-a408-bde3a7e94ea1"
      },
      "source": [
        "#actually training the network\n",
        "history=model.fit(partial_x_train,partial_y_train,epochs=20,batch_size=512,validation_data=(x_val,y_val))"
      ],
      "execution_count": null,
      "outputs": [
        {
          "output_type": "stream",
          "text": [
            "Epoch 1/20\n",
            "16/16 [==============================] - 2s 84ms/step - loss: 3.2175 - accuracy: 0.3845 - val_loss: 1.8239 - val_accuracy: 0.6200\n",
            "Epoch 2/20\n",
            "16/16 [==============================] - 1s 49ms/step - loss: 1.5512 - accuracy: 0.6868 - val_loss: 1.3498 - val_accuracy: 0.7170\n",
            "Epoch 3/20\n",
            "16/16 [==============================] - 1s 50ms/step - loss: 1.1089 - accuracy: 0.7652 - val_loss: 1.1692 - val_accuracy: 0.7570\n",
            "Epoch 4/20\n",
            "16/16 [==============================] - 1s 49ms/step - loss: 0.8828 - accuracy: 0.8193 - val_loss: 1.0574 - val_accuracy: 0.7750\n",
            "Epoch 5/20\n",
            "16/16 [==============================] - 1s 49ms/step - loss: 0.7047 - accuracy: 0.8544 - val_loss: 1.0102 - val_accuracy: 0.7840\n",
            "Epoch 6/20\n",
            "16/16 [==============================] - 1s 48ms/step - loss: 0.5721 - accuracy: 0.8856 - val_loss: 0.9771 - val_accuracy: 0.7920\n",
            "Epoch 7/20\n",
            "16/16 [==============================] - 1s 49ms/step - loss: 0.4698 - accuracy: 0.9013 - val_loss: 0.9147 - val_accuracy: 0.8120\n",
            "Epoch 8/20\n",
            "16/16 [==============================] - 1s 49ms/step - loss: 0.3738 - accuracy: 0.9203 - val_loss: 0.8933 - val_accuracy: 0.8170\n",
            "Epoch 9/20\n",
            "16/16 [==============================] - 1s 49ms/step - loss: 0.3156 - accuracy: 0.9319 - val_loss: 0.8850 - val_accuracy: 0.8210\n",
            "Epoch 10/20\n",
            "16/16 [==============================] - 1s 48ms/step - loss: 0.2510 - accuracy: 0.9453 - val_loss: 0.9656 - val_accuracy: 0.8040\n",
            "Epoch 11/20\n",
            "16/16 [==============================] - 1s 50ms/step - loss: 0.2176 - accuracy: 0.9495 - val_loss: 0.9210 - val_accuracy: 0.8220\n",
            "Epoch 12/20\n",
            "16/16 [==============================] - 1s 49ms/step - loss: 0.2008 - accuracy: 0.9515 - val_loss: 0.9507 - val_accuracy: 0.8160\n",
            "Epoch 13/20\n",
            "16/16 [==============================] - 1s 50ms/step - loss: 0.1645 - accuracy: 0.9550 - val_loss: 0.9462 - val_accuracy: 0.8190\n",
            "Epoch 14/20\n",
            "16/16 [==============================] - 1s 49ms/step - loss: 0.1534 - accuracy: 0.9546 - val_loss: 0.9553 - val_accuracy: 0.8230\n",
            "Epoch 15/20\n",
            "16/16 [==============================] - 1s 49ms/step - loss: 0.1293 - accuracy: 0.9598 - val_loss: 1.0096 - val_accuracy: 0.8030\n",
            "Epoch 16/20\n",
            "16/16 [==============================] - 1s 49ms/step - loss: 0.1266 - accuracy: 0.9589 - val_loss: 0.9933 - val_accuracy: 0.8100\n",
            "Epoch 17/20\n",
            "16/16 [==============================] - 1s 49ms/step - loss: 0.1200 - accuracy: 0.9589 - val_loss: 1.0127 - val_accuracy: 0.8110\n",
            "Epoch 18/20\n",
            "16/16 [==============================] - 1s 50ms/step - loss: 0.1127 - accuracy: 0.9596 - val_loss: 1.0306 - val_accuracy: 0.8130\n",
            "Epoch 19/20\n",
            "16/16 [==============================] - 1s 48ms/step - loss: 0.1130 - accuracy: 0.9595 - val_loss: 1.0500 - val_accuracy: 0.8080\n",
            "Epoch 20/20\n",
            "16/16 [==============================] - 1s 48ms/step - loss: 0.1100 - accuracy: 0.9613 - val_loss: 1.0553 - val_accuracy: 0.8070\n"
          ],
          "name": "stdout"
        }
      ]
    },
    {
      "cell_type": "code",
      "metadata": {
        "id": "0TBbsKVzV45f"
      },
      "source": [
        "history_dict=history.history"
      ],
      "execution_count": null,
      "outputs": []
    },
    {
      "cell_type": "code",
      "metadata": {
        "colab": {
          "base_uri": "https://localhost:8080/"
        },
        "id": "BM5JjfxhV45g",
        "outputId": "e8525787-4130-40e2-9690-45c862b294b8"
      },
      "source": [
        "#last value of each list is final accuracy or loss\n",
        "history_dict['accuracy'][-1]\n",
        "\n",
        "print(history_dict['accuracy'])\n",
        "print(history_dict['val_accuracy'])\n",
        "print(history_dict['loss'])\n",
        "print(history_dict['val_loss'])"
      ],
      "execution_count": null,
      "outputs": [
        {
          "output_type": "stream",
          "text": [
            "[0.5068904757499695, 0.694938600063324, 0.76847904920578, 0.819844663143158, 0.8573039174079895, 0.885993480682373, 0.9059132933616638, 0.9200701713562012, 0.9341017007827759, 0.9428714513778687, 0.9458782076835632, 0.9506389498710632, 0.9502630829811096, 0.9525181651115417, 0.9551491141319275, 0.9560260772705078, 0.9567777514457703, 0.9564018845558167, 0.9560260772705078, 0.9574041366577148]\n",
            "[0.6200000047683716, 0.7170000076293945, 0.7570000290870667, 0.7749999761581421, 0.7839999794960022, 0.7919999957084656, 0.8119999766349792, 0.8169999718666077, 0.8209999799728394, 0.8040000200271606, 0.8220000267028809, 0.8159999847412109, 0.8190000057220459, 0.8230000138282776, 0.8029999732971191, 0.8100000023841858, 0.8109999895095825, 0.8130000233650208, 0.8080000281333923, 0.8069999814033508]\n",
            "[2.732361078262329, 1.4767870903015137, 1.0886735916137695, 0.8625636696815491, 0.69106525182724, 0.5625501275062561, 0.45664307475090027, 0.3749789595603943, 0.3103184103965759, 0.260090172290802, 0.22627538442611694, 0.19422078132629395, 0.17868706583976746, 0.16096678376197815, 0.14741010963916779, 0.13361811637878418, 0.12547262012958527, 0.12288801372051239, 0.12010511755943298, 0.11559046059846878]\n",
            "[1.823911428451538, 1.3497549295425415, 1.1692489385604858, 1.0574395656585693, 1.0102300643920898, 0.9770644307136536, 0.9146555066108704, 0.8933027386665344, 0.8850165009498596, 0.9656053185462952, 0.9209995269775391, 0.9506703615188599, 0.9461721777915955, 0.9552851319313049, 1.0096396207809448, 0.9933062791824341, 1.0126535892486572, 1.0306172370910645, 1.0499868392944336, 1.055291771888733]\n"
          ],
          "name": "stdout"
        }
      ]
    },
    {
      "cell_type": "code",
      "metadata": {
        "colab": {
          "base_uri": "https://localhost:8080/"
        },
        "id": "FJ3SPhtXV45g",
        "outputId": "2b832b1c-4a2d-4330-c94e-a384f072af13"
      },
      "source": [
        "#Test results\n",
        "results=model.evaluate(x_test,y_test)\n",
        "print(results)\n",
        "\n",
        "#which one is loss ,which one is accuracy"
      ],
      "execution_count": null,
      "outputs": [
        {
          "output_type": "stream",
          "text": [
            "71/71 [==============================] - 0s 3ms/step - loss: 1.2138 - accuracy: 0.7876\n",
            "[1.213752031326294, 0.7876224517822266]\n"
          ],
          "name": "stdout"
        }
      ]
    },
    {
      "cell_type": "code",
      "metadata": {
        "id": "1TDhaTGHV45h"
      },
      "source": [
        "#activate this once previous approach is commented\n",
        "model=models.Sequential()\n",
        "model.add(layers.Dense(64,activation='relu',input_shape = (10000,)))\n",
        "model.add(layers.Dense(64,activation='relu'))\n",
        "model.add(layers.Dense(46,activation='sigmoid'))\n",
        "model.compile(optimizer='rmsprop',loss='categorical_crossentropy',metrics=['accuracy'])\n"
      ],
      "execution_count": null,
      "outputs": []
    },
    {
      "cell_type": "code",
      "metadata": {
        "colab": {
          "base_uri": "https://localhost:8080/"
        },
        "id": "XktfVKdhV45h",
        "outputId": "b4709c14-ed52-43a1-ed51-1da03490fe82"
      },
      "source": [
        "model.fit(partial_x_train,partial_y_train,epochs=9,batch_size=512,validation_data=(x_val,y_val))"
      ],
      "execution_count": null,
      "outputs": [
        {
          "output_type": "stream",
          "text": [
            "Epoch 1/9\n",
            "16/16 [==============================] - 1s 61ms/step - loss: 3.0837 - accuracy: 0.3679 - val_loss: 1.6923 - val_accuracy: 0.6620\n",
            "Epoch 2/9\n",
            "16/16 [==============================] - 1s 48ms/step - loss: 1.4597 - accuracy: 0.7001 - val_loss: 1.2790 - val_accuracy: 0.7270\n",
            "Epoch 3/9\n",
            "16/16 [==============================] - 1s 48ms/step - loss: 1.0286 - accuracy: 0.7875 - val_loss: 1.1028 - val_accuracy: 0.7750\n",
            "Epoch 4/9\n",
            "16/16 [==============================] - 1s 49ms/step - loss: 0.8275 - accuracy: 0.8230 - val_loss: 1.0180 - val_accuracy: 0.7900\n",
            "Epoch 5/9\n",
            "16/16 [==============================] - 1s 48ms/step - loss: 0.6465 - accuracy: 0.8617 - val_loss: 0.9514 - val_accuracy: 0.8120\n",
            "Epoch 6/9\n",
            "16/16 [==============================] - 1s 48ms/step - loss: 0.5135 - accuracy: 0.8934 - val_loss: 0.9327 - val_accuracy: 0.8230\n",
            "Epoch 7/9\n",
            "16/16 [==============================] - 1s 48ms/step - loss: 0.3986 - accuracy: 0.9175 - val_loss: 0.9215 - val_accuracy: 0.8190\n",
            "Epoch 8/9\n",
            "16/16 [==============================] - 1s 48ms/step - loss: 0.3327 - accuracy: 0.9285 - val_loss: 0.9419 - val_accuracy: 0.8050\n",
            "Epoch 9/9\n",
            "16/16 [==============================] - 1s 47ms/step - loss: 0.2841 - accuracy: 0.9365 - val_loss: 1.0002 - val_accuracy: 0.7910\n"
          ],
          "name": "stdout"
        },
        {
          "output_type": "execute_result",
          "data": {
            "text/plain": [
              "<tensorflow.python.keras.callbacks.History at 0x7fd0bf756c50>"
            ]
          },
          "metadata": {
            "tags": []
          },
          "execution_count": 19
        }
      ]
    },
    {
      "cell_type": "code",
      "metadata": {
        "colab": {
          "base_uri": "https://localhost:8080/"
        },
        "id": "_W_Fa6yhV45h",
        "outputId": "b10bf8b3-06b9-4f9f-ca7a-d6b8f147f9a1"
      },
      "source": [
        "results=model.evaluate(x_test,one_hot_test_labels)"
      ],
      "execution_count": null,
      "outputs": [
        {
          "output_type": "stream",
          "text": [
            "71/71 [==============================] - 0s 3ms/step - loss: 1.0602 - accuracy: 0.7680\n"
          ],
          "name": "stdout"
        }
      ]
    },
    {
      "cell_type": "code",
      "metadata": {
        "id": "fPSd8HceV45i"
      },
      "source": [],
      "execution_count": null,
      "outputs": []
    }
  ]
}