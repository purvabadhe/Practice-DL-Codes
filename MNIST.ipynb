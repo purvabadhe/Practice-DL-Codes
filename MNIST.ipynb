{
  "nbformat": 4,
  "nbformat_minor": 0,
  "metadata": {
    "colab": {
      "provenance": [],
      "authorship_tag": "ABX9TyPnsqZMfcOENtF3fMXDEEI+",
      "include_colab_link": true
    },
    "kernelspec": {
      "name": "python3",
      "display_name": "Python 3"
    }
  },
  "cells": [
    {
      "cell_type": "markdown",
      "metadata": {
        "id": "view-in-github",
        "colab_type": "text"
      },
      "source": [
        "<a href=\"https://colab.research.google.com/github/purvabadhe/Practice-DL-Codes/blob/main/MNIST.ipynb\" target=\"_parent\"><img src=\"https://colab.research.google.com/assets/colab-badge.svg\" alt=\"Open In Colab\"/></a>"
      ]
    },
    {
      "cell_type": "code",
      "metadata": {
        "id": "XbZqO1yUCeCk"
      },
      "source": [
        "import numpy as np"
      ],
      "execution_count": null,
      "outputs": []
    },
    {
      "cell_type": "code",
      "metadata": {
        "id": "lGp8iXztCpKD"
      },
      "source": [
        "import keras"
      ],
      "execution_count": null,
      "outputs": []
    },
    {
      "cell_type": "code",
      "metadata": {
        "id": "FF2YGL0uCqXs"
      },
      "source": [
        "import cv2"
      ],
      "execution_count": null,
      "outputs": []
    },
    {
      "cell_type": "code",
      "metadata": {
        "id": "YxkQqFW1Cqhk"
      },
      "source": [
        "from keras.datasets import mnist"
      ],
      "execution_count": null,
      "outputs": []
    },
    {
      "cell_type": "code",
      "metadata": {
        "colab": {
          "base_uri": "https://localhost:8080/"
        },
        "id": "ELtoIwogCqlW",
        "outputId": "83eee233-9f53-4e82-8f62-b2814f6bdd05"
      },
      "source": [
        "(imgs_train,lbls_train),(imgs_test,lbls_test)=mnist.load_data()"
      ],
      "execution_count": null,
      "outputs": [
        {
          "output_type": "stream",
          "text": [
            "Downloading data from https://storage.googleapis.com/tensorflow/tf-keras-datasets/mnist.npz\n",
            "11493376/11490434 [==============================] - 0s 0us/step\n"
          ],
          "name": "stdout"
        }
      ]
    },
    {
      "cell_type": "code",
      "metadata": {
        "colab": {
          "base_uri": "https://localhost:8080/"
        },
        "id": "LCCck-fSCzzK",
        "outputId": "8bc84ca9-34ab-4617-a4f2-62a5952d6d52"
      },
      "source": [
        "print(imgs_train.shape)"
      ],
      "execution_count": null,
      "outputs": [
        {
          "output_type": "stream",
          "text": [
            "(60000, 28, 28)\n"
          ],
          "name": "stdout"
        }
      ]
    },
    {
      "cell_type": "code",
      "metadata": {
        "colab": {
          "base_uri": "https://localhost:8080/"
        },
        "id": "C98z4BC3C3VS",
        "outputId": "2555dbc6-1c4a-41e7-af02-4a82fe86bc1c"
      },
      "source": [
        "print(len(lbls_train))"
      ],
      "execution_count": null,
      "outputs": [
        {
          "output_type": "stream",
          "text": [
            "60000\n"
          ],
          "name": "stdout"
        }
      ]
    },
    {
      "cell_type": "code",
      "metadata": {
        "colab": {
          "base_uri": "https://localhost:8080/"
        },
        "id": "ADtQkCwRC5Ia",
        "outputId": "13163d95-1cf8-4c8b-ed7e-612b130d4623"
      },
      "source": [
        "print(imgs_test.shape)"
      ],
      "execution_count": null,
      "outputs": [
        {
          "output_type": "stream",
          "text": [
            "(10000, 28, 28)\n"
          ],
          "name": "stdout"
        }
      ]
    },
    {
      "cell_type": "code",
      "metadata": {
        "colab": {
          "base_uri": "https://localhost:8080/"
        },
        "id": "vBg_VLc-C7ty",
        "outputId": "a939ac8c-1052-480c-9807-b9de5b533c99"
      },
      "source": [
        "print(len(lbls_test))"
      ],
      "execution_count": null,
      "outputs": [
        {
          "output_type": "stream",
          "text": [
            "10000\n"
          ],
          "name": "stdout"
        }
      ]
    },
    {
      "cell_type": "code",
      "metadata": {
        "id": "ffPxy93NC9c6"
      },
      "source": [
        "from keras import models as mdls\n",
        "from keras import layers as lyrs\n",
        "from keras.utils import to_categorical as cat"
      ],
      "execution_count": null,
      "outputs": []
    },
    {
      "cell_type": "code",
      "metadata": {
        "id": "6Y8JYfhZDAOC"
      },
      "source": [
        "#configuring the model:\n",
        "ntwk=mdls.Sequential()\n",
        "ntwk.add(lyrs.Dense(256,activation=\"relu\",input_shape=(28*28,)))\n",
        "ntwk.add(lyrs.Dense(10,activation=\"softmax\"))"
      ],
      "execution_count": null,
      "outputs": []
    },
    {
      "cell_type": "code",
      "metadata": {
        "id": "IpsXa08VDCmy"
      },
      "source": [
        "#compiling the model\n",
        "ntwk.compile(optimizer='rmsprop',loss='categorical_crossentropy',metrics=['accuracy'])"
      ],
      "execution_count": null,
      "outputs": []
    },
    {
      "cell_type": "code",
      "metadata": {
        "id": "23j9CPAuDFAK"
      },
      "source": [
        "imgs_train=imgs_train.reshape((60000,28*28))"
      ],
      "execution_count": null,
      "outputs": []
    },
    {
      "cell_type": "code",
      "metadata": {
        "id": "AXcb7vqnDHNq"
      },
      "source": [
        "imgs_train=imgs_train.astype('float32')/255"
      ],
      "execution_count": null,
      "outputs": []
    },
    {
      "cell_type": "code",
      "metadata": {
        "id": "0Nc3-LYrDJHi"
      },
      "source": [
        "imgs_test=imgs_test.reshape((10000,28*28))"
      ],
      "execution_count": null,
      "outputs": []
    },
    {
      "cell_type": "code",
      "metadata": {
        "id": "4d7OFY3SDLYS"
      },
      "source": [
        "imgs_test=imgs_test.astype('float32')/255"
      ],
      "execution_count": null,
      "outputs": []
    },
    {
      "cell_type": "code",
      "metadata": {
        "id": "jtPCSauaDNua"
      },
      "source": [
        "lbls_train=cat(lbls_train)"
      ],
      "execution_count": null,
      "outputs": []
    },
    {
      "cell_type": "code",
      "metadata": {
        "id": "L5lo9HTUDPxq"
      },
      "source": [
        "lbls_test=cat(lbls_test)"
      ],
      "execution_count": null,
      "outputs": []
    },
    {
      "cell_type": "code",
      "metadata": {
        "colab": {
          "base_uri": "https://localhost:8080/"
        },
        "id": "VO85Q4FVDRp6",
        "outputId": "25756b49-673c-43ed-912a-f13a58bd08fb"
      },
      "source": [
        "ntwk.fit(imgs_train,lbls_train,epochs=10,batch_size=2)"
      ],
      "execution_count": null,
      "outputs": [
        {
          "output_type": "stream",
          "text": [
            "Epoch 1/10\n",
            "30000/30000 [==============================] - 101s 3ms/step - loss: 0.0181 - accuracy: 0.9962\n",
            "Epoch 2/10\n",
            "30000/30000 [==============================] - 103s 3ms/step - loss: 0.0244 - accuracy: 0.9956\n",
            "Epoch 3/10\n",
            "30000/30000 [==============================] - 99s 3ms/step - loss: 0.0247 - accuracy: 0.9956\n",
            "Epoch 4/10\n",
            "30000/30000 [==============================] - 99s 3ms/step - loss: 0.0278 - accuracy: 0.9955\n",
            "Epoch 5/10\n",
            "30000/30000 [==============================] - 100s 3ms/step - loss: 0.0286 - accuracy: 0.9959\n",
            "Epoch 6/10\n",
            "30000/30000 [==============================] - 97s 3ms/step - loss: 0.0276 - accuracy: 0.9958\n",
            "Epoch 7/10\n",
            "30000/30000 [==============================] - 101s 3ms/step - loss: 0.0226 - accuracy: 0.9963\n",
            "Epoch 8/10\n",
            "30000/30000 [==============================] - 100s 3ms/step - loss: 0.0247 - accuracy: 0.9962\n",
            "Epoch 9/10\n",
            "30000/30000 [==============================] - 103s 3ms/step - loss: 0.0261 - accuracy: 0.9960\n",
            "Epoch 10/10\n",
            "30000/30000 [==============================] - 105s 3ms/step - loss: 0.0236 - accuracy: 0.9966\n"
          ],
          "name": "stdout"
        },
        {
          "output_type": "execute_result",
          "data": {
            "text/plain": [
              "<tensorflow.python.keras.callbacks.History at 0x7fae07ae17d0>"
            ]
          },
          "metadata": {
            "tags": []
          },
          "execution_count": 36
        }
      ]
    },
    {
      "cell_type": "code",
      "metadata": {
        "colab": {
          "base_uri": "https://localhost:8080/"
        },
        "id": "8Ea1Sq1nDTzi",
        "outputId": "86f9a160-5424-43eb-98fa-593401baa65e"
      },
      "source": [
        "test_loss,test_acc=ntwk.evaluate(imgs_test,lbls_test)"
      ],
      "execution_count": null,
      "outputs": [
        {
          "output_type": "stream",
          "text": [
            "313/313 [==============================] - 0s 1ms/step - loss: 0.3020 - accuracy: 0.9792\n"
          ],
          "name": "stdout"
        }
      ]
    },
    {
      "cell_type": "code",
      "metadata": {
        "colab": {
          "base_uri": "https://localhost:8080/"
        },
        "id": "MFxmXY1JDar6",
        "outputId": "72761171-7c05-44f9-dc5c-47f9b99466dc"
      },
      "source": [
        "print(test_acc)"
      ],
      "execution_count": null,
      "outputs": [
        {
          "output_type": "stream",
          "text": [
            "0.979200005531311\n"
          ],
          "name": "stdout"
        }
      ]
    },
    {
      "cell_type": "code",
      "metadata": {
        "id": "vbZQcJ0uDc1K"
      },
      "source": [
        "#change no of epochs ,check acc: NO CHANGE\n",
        "#change batch size to extreme 2 or 2048 ,check acc: 2&5epochs:0.978  , 2048&5epochs : 0.977, 128&5 epochs:0.977\n",
        "#no of filters in 1st dense layer if 256 instead 512 then 0.9778"
      ],
      "execution_count": null,
      "outputs": []
    },
    {
      "cell_type": "code",
      "metadata": {
        "id": "3mmEgDGwDftS"
      },
      "source": [],
      "execution_count": null,
      "outputs": []
    }
  ]
}