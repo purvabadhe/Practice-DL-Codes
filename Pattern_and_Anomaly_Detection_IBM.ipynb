{
  "nbformat": 4,
  "nbformat_minor": 0,
  "metadata": {
    "colab": {
      "provenance": [],
      "authorship_tag": "ABX9TyNeto3O3sz3kLWJJ6nPtSi6",
      "include_colab_link": true
    },
    "kernelspec": {
      "name": "python3",
      "display_name": "Python 3"
    },
    "language_info": {
      "name": "python"
    }
  },
  "cells": [
    {
      "cell_type": "markdown",
      "metadata": {
        "id": "view-in-github",
        "colab_type": "text"
      },
      "source": [
        "<a href=\"https://colab.research.google.com/github/purvabadhe/Practice-DL-Codes/blob/main/Pattern_and_Anomaly_Detection_IBM.ipynb\" target=\"_parent\"><img src=\"https://colab.research.google.com/assets/colab-badge.svg\" alt=\"Open In Colab\"/></a>"
      ]
    },
    {
      "cell_type": "code",
      "metadata": {
        "id": "FnmKLwztM9_6"
      },
      "source": [
        "import numpy as np\n",
        "x= np.array([3,5,6.1,7,9])  #independant variable\n",
        "y=np.array([4.1,5,7.2,6.9,8]) #dependant variable"
      ],
      "execution_count": null,
      "outputs": []
    },
    {
      "cell_type": "code",
      "metadata": {
        "colab": {
          "base_uri": "https://localhost:8080/",
          "height": 265
        },
        "id": "EvzeC0eXNc98",
        "outputId": "280876f9-07df-46b3-daf2-e9b9a56b26a2"
      },
      "source": [
        "import matplotlib.pyplot as plt\n",
        "plt.scatter(x,y)\n",
        "plt.show()"
      ],
      "execution_count": null,
      "outputs": [
        {
          "output_type": "display_data",
          "data": {
            "image/png": "[encoded data removed]",
            "text/plain": [
              "<Figure size 432x288 with 1 Axes>"
            ]
          },
          "metadata": {
            "tags": [],
            "needs_background": "light"
          }
        }
      ]
    },
    {
      "cell_type": "code",
      "metadata": {
        "id": "ZJBa3Y_GNp0H"
      },
      "source": [
        "#define initial coefficients\n",
        "#calculate y_hat\n",
        "#calculate error\n",
        "#calculate gradietns\n",
        "#apply gradient descent\n",
        "#apply error correction procedure\n"
      ],
      "execution_count": null,
      "outputs": []
    },
    {
      "cell_type": "code",
      "metadata": {
        "colab": {
          "base_uri": "https://localhost:8080/"
        },
        "id": "I4yng7_5SNzS",
        "outputId": "e9aace60-ecf2-4c08-f3de-80ff73e5e258"
      },
      "source": [
        "a=2.1\n",
        "b=1.7\n",
        "yh=a*x+b\n",
        "error=((y-yh)**2).mean()\n",
        "print (error)"
      ],
      "execution_count": null,
      "outputs": [
        {
          "output_type": "stream",
          "text": [
            "73.89922000000001\n"
          ],
          "name": "stdout"
        }
      ]
    },
    {
      "cell_type": "code",
      "metadata": {
        "colab": {
          "base_uri": "https://localhost:8080/"
        },
        "id": "BcZeRMEzSfrf",
        "outputId": "80a63004-e99b-46ac-f5f1-15027da3f5f1"
      },
      "source": [
        "dea= -2*((y-yh)*x).sum()\n",
        "deb= -2*((y-yh)).sum()\n",
        "print(dea,deb)"
      ],
      "execution_count": null,
      "outputs": [
        {
          "output_type": "stream",
          "text": [
            "544.3820000000001 81.02000000000001\n"
          ],
          "name": "stdout"
        }
      ]
    },
    {
      "cell_type": "code",
      "metadata": {
        "id": "ES1ocr8gTh6z"
      },
      "source": [
        "lr=0.001"
      ],
      "execution_count": null,
      "outputs": []
    },
    {
      "cell_type": "code",
      "metadata": {
        "colab": {
          "base_uri": "https://localhost:8080/"
        },
        "id": "SkXlRUPMSs4E",
        "outputId": "a8254fa6-58b5-49fa-f8fa-913e60fa7c36"
      },
      "source": [
        "a=a- lr*dea\n",
        "b=b- lr*deb\n",
        "print(a,b)"
      ],
      "execution_count": null,
      "outputs": [
        {
          "output_type": "stream",
          "text": [
            "1.555618 1.6189799999999999\n"
          ],
          "name": "stdout"
        }
      ]
    },
    {
      "cell_type": "code",
      "metadata": {
        "id": "MaFr4BjhWO8-"
      },
      "source": [
        "import numpy as np\n",
        "x= np.array([3,5,6.1,7,9])  #independant variable\n",
        "y=np.array([4.1,5,7.2,6.9,8]) #dependant variable"
      ],
      "execution_count": null,
      "outputs": []
    },
    {
      "cell_type": "code",
      "metadata": {
        "colab": {
          "base_uri": "https://localhost:8080/"
        },
        "id": "mwuIAe8zWPFL",
        "outputId": "b87bd3fe-51d7-4d5b-857c-21b5633083eb"
      },
      "source": [
        "a = 7.1\n",
        "b = 8.7\n",
        "yh = a*x + b\n",
        "error = ((y - yh)**2).mean()\n",
        "print(error)"
      ],
      "execution_count": null,
      "outputs": [
        {
          "output_type": "stream",
          "text": [
            "2208.1592199999996\n"
          ],
          "name": "stdout"
        }
      ]
    },
    {
      "cell_type": "code",
      "metadata": {
        "colab": {
          "base_uri": "https://localhost:8080/",
          "height": 265
        },
        "id": "cLX2IYtrTPWB",
        "outputId": "299361de-40d7-4f58-b349-c1c64574cc0b"
      },
      "source": [
        "import matplotlib.pyplot as plt\n",
        "plt.scatter(x,y)\n",
        "plt.plot(x,yh,c='r')\n",
        "plt.show()"
      ],
      "execution_count": null,
      "outputs": [
        {
          "output_type": "display_data",
          "data": {
            "image/png": "[encoded data removed]",
            "text/plain": [
              "<Figure size 432x288 with 1 Axes>"
            ]
          },
          "metadata": {
            "tags": [],
            "needs_background": "light"
          }
        }
      ]
    },
    {
      "cell_type": "code",
      "metadata": {
        "id": "SF2DhCwwUgeO"
      },
      "source": [
        "#Working in loop"
      ],
      "execution_count": null,
      "outputs": []
    },
    {
      "cell_type": "code",
      "metadata": {
        "id": "M4rIUjRIbFmO"
      },
      "source": [
        "import numpy as np\n",
        "x = np.array([3,5,6.1,7,9])  #independent variable\n",
        "y = np.array([4.1,5,7.2,6.9,8])   #Dependent variable"
      ],
      "execution_count": null,
      "outputs": []
    },
    {
      "cell_type": "code",
      "metadata": {
        "colab": {
          "base_uri": "https://localhost:8080/"
        },
        "id": "ZDQmSv0UbGMd",
        "outputId": "14bf7a77-d3b9-4a17-a9fa-81ec2dcd4802"
      },
      "source": [
        "a = 7.1\n",
        "b = 8.7\n",
        "yh = a*x + b\n",
        "error = ((y - yh)**2).mean()\n",
        "print(error)"
      ],
      "execution_count": null,
      "outputs": [
        {
          "output_type": "stream",
          "text": [
            "2208.1592199999996\n"
          ],
          "name": "stdout"
        }
      ]
    },
    {
      "cell_type": "code",
      "metadata": {
        "colab": {
          "base_uri": "https://localhost:8080/"
        },
        "id": "iQdQO3ykbIza",
        "outputId": "54101ab2-4e49-402e-ca22-239ec19d7942"
      },
      "source": [
        "lr = 0.001\n",
        "for i in range(100):\n",
        "  yh = a*x + b\n",
        "\n",
        "  dea = -2*((y-yh)*x).sum()\n",
        "  deb = -2*((y-yh)).sum()\n",
        "\n",
        "  a = a - lr * dea\n",
        "  b = b - lr * deb\n",
        "\n",
        "  error = ((y - yh)**2).mean()\n",
        "  print(i,error)"
      ],
      "execution_count": null,
      "outputs": [
        {
          "output_type": "stream",
          "text": [
            "0 2208.1592199999996\n",
            "1 767.0067252529392\n",
            "2 267.79616531791635\n",
            "3 94.86876373474536\n",
            "4 34.96393820420009\n",
            "5 14.209476216180443\n",
            "6 7.016477448379651\n",
            "7 4.5210971864535505\n",
            "8 3.652951694922689\n",
            "9 3.3484780764966855\n",
            "10 3.2392643793022344\n",
            "11 3.1976948539743257\n",
            "12 3.1795641407003172\n",
            "13 3.169559748480014\n",
            "14 3.1623775063101487\n",
            "15 3.1561800664485413\n",
            "16 3.1503309683854397\n",
            "17 3.1446097319187816\n",
            "18 3.138939970007865\n",
            "19 3.1332952086635357\n",
            "20 3.1276662635115406\n",
            "21 3.1220499392257306\n",
            "22 3.116445115078071\n",
            "23 3.110851388996119\n",
            "24 3.105268607872456\n",
            "25 3.0996967048665693\n",
            "26 3.09413564304714\n",
            "27 3.0885853958700022\n",
            "28 3.083045940415777\n",
            "29 3.0775172550473706\n",
            "30 3.071999318598498\n",
            "31 3.066492110092541\n",
            "32 3.0609956086451056\n",
            "33 3.055509793430223\n",
            "34 3.050034643668586\n",
            "35 3.0445701386234223\n",
            "36 3.0391162575990185\n",
            "37 3.033672979940156\n",
            "38 3.028240285031859\n",
            "39 3.022818152299262\n",
            "40 3.0174065612075154\n",
            "41 3.012005491261694\n",
            "42 3.0066149220067184\n",
            "43 3.001234833027282\n",
            "44 2.995865203947767\n",
            "45 2.99050601443217\n",
            "46 2.9851572441840255\n",
            "47 2.9798188729463266\n",
            "48 2.9744908805014503\n",
            "49 2.9691732466710827\n",
            "50 2.9638659513161367\n",
            "51 2.9585689743366834\n",
            "52 2.953282295671868\n",
            "53 2.9480058952998385\n",
            "54 2.942739753237671\n",
            "55 2.937483849541291\n",
            "56 2.9322381643054003\n",
            "57 2.927002677663399\n",
            "58 2.921777369787308\n",
            "59 2.9165622208877076\n",
            "60 2.911357211213641\n",
            "61 2.906162321052558\n",
            "62 2.9009775307302332\n",
            "63 2.8958028206106863\n",
            "64 2.8906381710961186\n",
            "65 2.88548356262683\n",
            "66 2.880338975681151\n",
            "67 2.8752043907753606\n",
            "68 2.8700797884636238\n",
            "69 2.864965149337911\n",
            "70 2.8598604540279213\n",
            "71 2.854765683201017\n",
            "72 2.8496808175621435\n",
            "73 2.8446058378537624\n",
            "74 2.839540724855776\n",
            "75 2.8344854593854523\n",
            "76 2.8294400222973524\n",
            "77 2.824404394483264\n",
            "78 2.8193785568721217\n",
            "79 2.814362490429937\n",
            "80 2.809356176159732\n",
            "81 2.8043595951014564\n",
            "82 2.7993727283319267\n",
            "83 2.794395556964745\n",
            "84 2.7894280621502365\n",
            "85 2.7844702250753706\n",
            "86 2.7795220269636944\n",
            "87 2.7745834490752586\n",
            "88 2.769654472706551\n",
            "89 2.764735079190417\n",
            "90 2.759825249896\n",
            "91 2.754924966228662\n",
            "92 2.750034209629917\n",
            "93 2.745152961577362\n",
            "94 2.7402812035846034\n",
            "95 2.735418917201186\n",
            "96 2.730566084012531\n",
            "97 2.725722685639858\n",
            "98 2.7208887037401204\n",
            "99 2.7160641200059303\n"
          ],
          "name": "stdout"
        }
      ]
    },
    {
      "cell_type": "code",
      "metadata": {
        "id": "bf5DD63XbKyd"
      },
      "source": [
        "#Polynomial Curve Fitting\n"
      ],
      "execution_count": null,
      "outputs": []
    },
    {
      "cell_type": "code",
      "metadata": {
        "id": "bfKpKzbHrSft"
      },
      "source": [
        "import numpy as np\n",
        "x= np.array([3,5,6.1,7,9])  #independant variable\n",
        "y=np.array([4.1,5,7.2,6.9,8]) #dependant variable"
      ],
      "execution_count": null,
      "outputs": []
    },
    {
      "cell_type": "code",
      "metadata": {
        "colab": {
          "base_uri": "https://localhost:8080/",
          "height": 265
        },
        "id": "tFIYd77orgdF",
        "outputId": "01f7dc15-f0b1-46c4-9164-4ab31e0f6f58"
      },
      "source": [
        "import matplotlib.pyplot as plt\n",
        "plt.scatter(x,y)\n",
        "plt.show()"
      ],
      "execution_count": null,
      "outputs": [
        {
          "output_type": "display_data",
          "data": {
            "image/png": "[encoded data removed]",
            "text/plain": [
              "<Figure size 432x288 with 1 Axes>"
            ]
          },
          "metadata": {
            "tags": [],
            "needs_background": "light"
          }
        }
      ]
    },
    {
      "cell_type": "code",
      "metadata": {
        "colab": {
          "base_uri": "https://localhost:8080/"
        },
        "id": "fA6Yv3M_rhBn",
        "outputId": "8f08cdc9-becd-4938-e69d-7644ff328a46"
      },
      "source": [
        "x**2"
      ],
      "execution_count": null,
      "outputs": [
        {
          "output_type": "execute_result",
          "data": {
            "text/plain": [
              "array([ 9.  , 25.  , 37.21, 49.  , 81.  ])"
            ]
          },
          "metadata": {
            "tags": []
          },
          "execution_count": 126
        }
      ]
    },
    {
      "cell_type": "code",
      "metadata": {
        "id": "QPp1i9Zwrx4X"
      },
      "source": [
        "x=x.reshape(5,1)"
      ],
      "execution_count": null,
      "outputs": []
    },
    {
      "cell_type": "code",
      "metadata": {
        "colab": {
          "base_uri": "https://localhost:8080/"
        },
        "id": "8mh2JzX9r2Jk",
        "outputId": "1c753288-0750-47ff-f4dd-df7cdcfebeb9"
      },
      "source": [
        "x"
      ],
      "execution_count": null,
      "outputs": [
        {
          "output_type": "execute_result",
          "data": {
            "text/plain": [
              "array([[3. ],\n",
              "       [5. ],\n",
              "       [6.1],\n",
              "       [7. ],\n",
              "       [9. ]])"
            ]
          },
          "metadata": {
            "tags": []
          },
          "execution_count": 128
        }
      ]
    },
    {
      "cell_type": "code",
      "metadata": {
        "colab": {
          "base_uri": "https://localhost:8080/"
        },
        "id": "ckdzdM62r4Pu",
        "outputId": "f737025d-6b87-4efd-8663-15746aa3c4a7"
      },
      "source": [
        "np.hstack((x,x**2))"
      ],
      "execution_count": null,
      "outputs": [
        {
          "output_type": "execute_result",
          "data": {
            "text/plain": [
              "array([[ 3.  ,  9.  ],\n",
              "       [ 5.  , 25.  ],\n",
              "       [ 6.1 , 37.21],\n",
              "       [ 7.  , 49.  ],\n",
              "       [ 9.  , 81.  ]])"
            ]
          },
          "metadata": {
            "tags": []
          },
          "execution_count": 130
        }
      ]
    },
    {
      "cell_type": "code",
      "metadata": {
        "id": "jUsRsWnAr93V"
      },
      "source": [
        "a=2.3\n",
        "b=1.5\n",
        "c=1.7\n",
        "\n"
      ],
      "execution_count": null,
      "outputs": []
    }
  ]
}