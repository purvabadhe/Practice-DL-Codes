{
  "cells": [
    {
      "cell_type": "markdown",
      "metadata": {
        "id": "view-in-github",
        "colab_type": "text"
      },
      "source": [
        "<a href=\"https://colab.research.google.com/github/purvabadhe/Practice-DL-Codes/blob/main/cifar10.ipynb\" target=\"_parent\"><img src=\"https://colab.research.google.com/assets/colab-badge.svg\" alt=\"Open In Colab\"/></a>"
      ]
    },
    {
      "cell_type": "code",
      "execution_count": 1,
      "metadata": {
        "id": "tD6CUaQfn4lS"
      },
      "outputs": [],
      "source": [
        "from numpy import mean\n",
        "from numpy import std\n",
        "from matplotlib import pyplot as plt\n",
        "from sklearn.model_selection import KFold\n",
        "from tensorflow.keras.datasets import cifar10\n",
        "from tensorflow.keras.utils import to_categorical\n",
        "from tensorflow.keras.models import Sequential\n",
        "from tensorflow.keras.layers import Dense, Conv2D, MaxPool2D, Flatten\n",
        "from keras.layers import Conv2D, MaxPooling2D, GlobalMaxPooling2D\n",
        "from tensorflow.keras.optimizers import SGD"
      ]
    },
    {
      "cell_type": "code",
      "execution_count": 2,
      "metadata": {
        "id": "1kyI0-3dn5fi",
        "colab": {
          "base_uri": "https://localhost:8080/"
        },
        "outputId": "9c938118-1b97-4ac0-ce44-81cb1c86daf0"
      },
      "outputs": [
        {
          "output_type": "stream",
          "name": "stdout",
          "text": [
            "Downloading data from https://www.cs.toronto.edu/~kriz/cifar-10-python.tar.gz\n",
            "170498071/170498071 [==============================] - 71s 0us/step\n"
          ]
        }
      ],
      "source": [
        "(X_train,y_train), (X_test,y_test) = cifar10.load_data()"
      ]
    },
    {
      "cell_type": "code",
      "execution_count": 3,
      "metadata": {
        "colab": {
          "base_uri": "https://localhost:8080/"
        },
        "id": "MMLSQ_IPn8-6",
        "outputId": "78d5012b-a188-48e2-849a-c6a898c79024"
      },
      "outputs": [
        {
          "output_type": "stream",
          "name": "stdout",
          "text": [
            "X_train shape: (50000, 32, 32, 3)\n",
            "50000 train samples\n",
            "10000 test samples\n"
          ]
        }
      ],
      "source": [
        "print('X_train shape:', X_train.shape)\n",
        "print(X_train.shape[0], 'train samples')\n",
        "print(X_test.shape[0], 'test samples')"
      ]
    },
    {
      "cell_type": "code",
      "execution_count": 4,
      "metadata": {
        "id": "6kKQ8ZLLn9GI"
      },
      "outputs": [],
      "source": [
        "# Convert class vectors to binary class matrices.\n",
        "y_train = to_categorical(y_train)\n",
        "y_test = to_categorical(y_test)"
      ]
    },
    {
      "cell_type": "code",
      "execution_count": 5,
      "metadata": {
        "id": "gTZRdXLcn9JQ"
      },
      "outputs": [],
      "source": [
        "import matplotlib.pyplot as plt\n",
        "import seaborn as sns\n",
        "%matplotlib inline\n",
        "from keras.layers import Dense, Dropout, Activation"
      ]
    },
    {
      "cell_type": "code",
      "execution_count": 6,
      "metadata": {
        "colab": {
          "base_uri": "https://localhost:8080/"
        },
        "id": "8hLX_zyun9Lk",
        "outputId": "0b82c708-8d6a-4107-aa5a-63fd57a4add5"
      },
      "outputs": [
        {
          "output_type": "execute_result",
          "data": {
            "text/plain": [
              "(50000, 32, 32, 3)"
            ]
          },
          "metadata": {},
          "execution_count": 6
        }
      ],
      "source": [
        "X_train.shape"
      ]
    },
    {
      "cell_type": "code",
      "execution_count": 7,
      "metadata": {
        "colab": {
          "base_uri": "https://localhost:8080/"
        },
        "id": "akI4KpKXn9Oq",
        "outputId": "305f6b24-3b1f-4f7f-f7a2-7655be49731f"
      },
      "outputs": [
        {
          "output_type": "execute_result",
          "data": {
            "text/plain": [
              "(10000, 32, 32, 3)"
            ]
          },
          "metadata": {},
          "execution_count": 7
        }
      ],
      "source": [
        "X_test.shape"
      ]
    },
    {
      "cell_type": "code",
      "execution_count": 7,
      "metadata": {
        "id": "kL8uQo9zn9Rf"
      },
      "outputs": [],
      "source": []
    },
    {
      "cell_type": "code",
      "execution_count": 8,
      "metadata": {
        "id": "Y7w-wEDeoRqb"
      },
      "outputs": [],
      "source": [
        "def prep_pixels(train,test):\n",
        "    train_norm = train.astype('float32')\n",
        "    test_norm = test.astype('float32')\n",
        "\n",
        "    train_norm = train_norm/255.0\n",
        "    test_norm = test_norm/255.0\n",
        "    return train_norm, test_norm"
      ]
    },
    {
      "cell_type": "code",
      "execution_count": 9,
      "metadata": {
        "id": "-6h-TbHBoUGh"
      },
      "outputs": [],
      "source": [
        "trainX,testX = prep_pixels(X_train,y_train)"
      ]
    },
    {
      "cell_type": "code",
      "execution_count": 10,
      "metadata": {
        "id": "4orMWCJFoWWF"
      },
      "outputs": [],
      "source": [
        "def define_model():\n",
        "    cnn = Sequential()\n",
        "\n",
        "    cnn.add(Conv2D(filters = 32, kernel_size = 3, padding='same', kernel_initializer = 'he_uniform',activation = 'relu',input_shape = X_train.shape[1:]))\n",
        "    cnn.add(Conv2D(filters = 48, kernel_size = 3, padding='same', kernel_initializer = 'he_uniform',activation = 'relu',input_shape = X_train.shape[1:]))\n",
        "    cnn.add(MaxPool2D(pool_size = 2, strides = 2))\n",
        "    cnn.add(Dropout(0.25))\n",
        "    cnn.add(Conv2D(filters = 80, kernel_size = 3, padding='same', kernel_initializer = 'he_uniform',activation = 'relu',input_shape = X_train.shape[1:]))\n",
        "    cnn.add(MaxPool2D(pool_size = 2, strides = 2))\n",
        "    cnn.add(Dropout(0.25))\n",
        "    cnn.add(Conv2D(filters = 128, kernel_size = 3, padding='same', kernel_initializer = 'he_uniform',activation = 'relu',input_shape = X_train.shape[1:]))\n",
        "    cnn.add(GlobalMaxPooling2D())\n",
        "    cnn.add(Dropout(0.25))\n",
        "\n",
        "    cnn.add(Dense(units = 500, activation = 'relu',kernel_initializer = 'he_uniform'))\n",
        "\n",
        "    cnn.add(Dense(units = 10, activation = 'softmax'))\n",
        "    opt = SGD(learning_rate = 0.01,momentum = 0.9)\n",
        "\n",
        "    cnn.compile(optimizer = opt, loss = 'categorical_crossentropy', metrics = ['accuracy'])\n",
        "    return cnn"
      ]
    },
    {
      "cell_type": "code",
      "execution_count": 11,
      "metadata": {
        "id": "Rkl6hy75ohPi"
      },
      "outputs": [],
      "source": [
        "scores,histories = list(),list()\n",
        "kfold = KFold(5, shuffle = True, random_state = 1)"
      ]
    },
    {
      "cell_type": "code",
      "execution_count": null,
      "metadata": {
        "colab": {
          "base_uri": "https://localhost:8080/"
        },
        "id": "KgQABoZAojhU",
        "outputId": "93c4445f-0d1a-46e6-d7da-282d457595f7"
      },
      "outputs": [
        {
          "metadata": {
            "tags": null
          },
          "name": "stdout",
          "output_type": "stream",
          "text": [
            "> 28.250\n"
          ]
        }
      ],
      "source": [
        "#enumerate splits\n",
        "dataX = trainX\n",
        "dataY = y_train\n",
        "for train_ix,test_ix in kfold.split(dataX):\n",
        "    model = define_model()\n",
        "    X_train,y_train,X_test,y_test = dataX[train_ix],dataY[train_ix],dataX[test_ix],dataY[test_ix]\n",
        "\n",
        "    history = model.fit(X_train,y_train, epochs = 10, batch_size = 512, validation_data = (X_test,y_test), verbose = 0)\n",
        "    _, acc = model.evaluate(X_test,y_test,verbose = 0)\n",
        "    print('> %.3f' % (acc * 100.0))\n",
        "    scores.append(acc)\n",
        "    histories.append(history)"
      ]
    },
    {
      "cell_type": "code",
      "execution_count": null,
      "metadata": {
        "id": "thRPpI4LuejC"
      },
      "outputs": [],
      "source": []
    }
  ],
  "metadata": {
    "colab": {
      "provenance": [],
      "authorship_tag": "ABX9TyPx9fm4f/FTP24AtLGLFPqg",
      "include_colab_link": true
    },
    "kernelspec": {
      "display_name": "Python 3",
      "name": "python3"
    },
    "language_info": {
      "name": "python"
    }
  },
  "nbformat": 4,
  "nbformat_minor": 0
}